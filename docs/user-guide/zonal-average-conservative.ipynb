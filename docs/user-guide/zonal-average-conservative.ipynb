{
 "cells": [
  {
   "cell_type": "markdown",
   "id": "title-0",
   "metadata": {},
   "source": [
    "# Conservative Zonal Averaging (Latitude Bands)\n",
    "\n",
    "This notebook introduces zonal averaging and conservation in a step-by-step, visual way.\n",
    "\n",
    "Key ideas:\n",
    "- A zonal mean summarizes values along latitude.\n",
    "- Non-conservative: averages along individual lines of latitude.\n",
    "- Conservative (banded): averages over finite latitude bands, weighting by area. This conserves integral quantities.\n"
   ]
  },
  {
   "cell_type": "code",
   "execution_count": null,
   "id": "imports-1",
   "metadata": {},
   "outputs": [],
   "source": [
    "# Ensure we import the local uxarray package from the repository root\n",
    "import os\n",
    "import sys\n",
    "\n",
    "sys.path.insert(0, os.path.abspath(os.path.join(\"..\", \"..\")))\n",
    "\n",
    "import cartopy.crs as ccrs\n",
    "import geoviews as gv\n",
    "import geoviews.feature as gf\n",
    "import holoviews as hv\n",
    "import numpy as np\n",
    "\n",
    "hv.extension(\"bokeh\")\n",
    "\n",
    "import uxarray as ux"
   ]
  },
  {
   "cell_type": "markdown",
   "id": "load-2",
   "metadata": {},
   "source": [
    "## Load a sample dataset\n",
    "We use a standard unstructured grid test case and a scalar field `psi`. The map shows the raw field."
   ]
  },
  {
   "cell_type": "code",
   "execution_count": null,
   "id": "load-3",
   "metadata": {},
   "outputs": [],
   "source": [
    "projection = ccrs.Robinson()\n",
    "uxds = ux.open_dataset(\n",
    "    \"../../test/meshfiles/ugrid/outCSne30/outCSne30.ug\",\n",
    "    \"../../test/meshfiles/ugrid/outCSne30/outCSne30_vortex.nc\",\n",
    ")\n",
    "uxds[\"psi\"].plot(\n",
    "    cmap=\"inferno\",\n",
    "    periodic_elements=\"split\",\n",
    "    projection=projection,\n",
    "    title=\"Global Field\",\n",
    ")"
   ]
  },
  {
   "cell_type": "markdown",
   "id": "explain-4",
   "metadata": {},
   "source": [
    "## Zonal mean: concept\n",
    "- A latitude circle is the set of all points at a fixed latitude.\n",
    "- The non-conservative zonal mean computes an average along such a circle.\n",
    "- The conservative (banded) zonal mean instead averages across a latitude interval (band), weighting every face by its area inside the band.\n",
    "\n",
    "The banded approach preserves integrals: the sum over bands of (band mean × band area) matches the global area integral (up to numerical quadrature error).\n"
   ]
  },
  {
   "cell_type": "code",
   "execution_count": null,
   "id": "compute-5",
   "metadata": {},
   "outputs": [],
   "source": [
    "# Non-conservative: lat grid every 5 degrees\n",
    "z_nc = uxds[\"psi\"].zonal_mean(lat=(-90, 90, 5))\n",
    "z_nc"
   ]
  },
  {
   "cell_type": "code",
   "execution_count": null,
   "id": "compute-6",
   "metadata": {},
   "outputs": [],
   "source": [
    "# Conservative banded: same tuple interpreted as band edges\n",
    "z_c = uxds[\"psi\"].zonal_mean(lat=(-90, 90, 5), mode=\"conservative\")\n",
    "edges = z_c.attrs.get(\"lat_band_edges\")\n",
    "centers = 0.5 * (edges[:-1] + edges[1:])\n",
    "z_c, edges"
   ]
  },
  {
   "cell_type": "markdown",
   "id": "bands-map-7",
   "metadata": {},
   "source": [
    "## Visualize latitude bands on the map\n",
    "Shaded rectangles show example bands that the conservative scheme aggregates over."
   ]
  },
  {
   "cell_type": "code",
   "execution_count": null,
   "id": "bands-map-8",
   "metadata": {},
   "outputs": [],
   "source": [
    "# Helper to draw a band as a filled rectangle (easy shaded overlay)\n",
    "def band_rect(min_lat, max_lat, lon_min=-180, lon_max=180):\n",
    "    return gv.Rectangles([(lon_min, min_lat, lon_max, max_lat)], crs=ccrs.PlateCarree())\n",
    "\n",
    "\n",
    "# Build a subset of bands for visualization (e.g., every 15 degrees)\n",
    "band_edges_vis = np.arange(-90, 90 + 15, 15)\n",
    "bands_layer = None\n",
    "for a, b in zip(band_edges_vis[:-1], band_edges_vis[1:]):\n",
    "    rect = band_rect(a, b).opts(fill_alpha=0.18, line_alpha=0.0, color=\"steelblue\")\n",
    "    bands_layer = rect if bands_layer is None else bands_layer * rect\n",
    "\n",
    "(\n",
    "    uxds[\"psi\"].plot(\n",
    "        cmap=\"inferno\",\n",
    "        periodic_elements=\"split\",\n",
    "        projection=projection,\n",
    "        title=\"Latitude Bands (shaded)\",\n",
    "    )\n",
    "    * bands_layer\n",
    "    * gf.coastline(projection=projection)\n",
    "    * gf.grid(projection=projection)\n",
    ")"
   ]
  },
  {
   "cell_type": "markdown",
   "id": "plot-compare-9",
   "metadata": {},
   "source": [
    "## Compare the two schemes (line plot)\n",
    "We overlay the non-conservative curve with the conservative (banded) curve. A highlighted x-span marks one band; we annotate the conservative band mean at its center."
   ]
  },
  {
   "cell_type": "code",
   "execution_count": null,
   "id": "plot-compare-10",
   "metadata": {},
   "outputs": [],
   "source": [
    "# Choose a band to highlight (e.g., centered near the equator)\n",
    "highlight_idx = np.argmin(np.abs(centers - 0.0))\n",
    "x0, x1 = edges[highlight_idx], edges[highlight_idx + 1]\n",
    "xmid = centers[highlight_idx]\n",
    "ymid = (\n",
    "    float(z_c.sel(latitudes=xmid))\n",
    "    if \"latitudes\" in z_c.coords\n",
    "    else float(z_c.values[..., highlight_idx])\n",
    ")\n",
    "\n",
    "line_nc = z_nc.plot.line(label=\"non-conservative\")\n",
    "line_c = z_c.plot.line(label=\"conservative (bands)\", line_dash=\"dashed\")\n",
    "span = hv.VSpan(x0, x1).opts(alpha=0.12, color=\"steelblue\")\n",
    "pt = hv.Scatter([(xmid, ymid)]).opts(color=\"crimson\", size=8)\n",
    "txt = hv.Text(xmid, ymid, f\"mean={ymid:.3f}\").opts(text_color=\"crimson\")\n",
    "\n",
    "(span * line_nc * line_c * pt * txt).opts(\n",
    "    title=\"Zonal Mean: Non-conservative vs Conservative (5°)\",\n",
    "    xlabel=\"latitudes (deg)\",\n",
    "    ylabel=uxds[\"psi\"].name or \"value\",\n",
    "    xticks=np.arange(-90, 91, 30),\n",
    "    xlim=(-90, 90),\n",
    ")"
   ]
  },
  {
   "cell_type": "markdown",
   "id": "cons-tests-11",
   "metadata": {},
   "source": [
    "## Conservation diagnostics\n",
    "We verify that the band integration is both geometrically and physically consistent.\n",
    "\n",
    "1) Geometry: Sum of per-face overlap areas within a band should match the analytic spherical band area: 2π · (sin φ₂ − sin φ₁).\n",
    "2) Conservation: The sum over bands of (band_mean × band_area) should match the global area integral of the field over the same latitude range.\n"
   ]
  },
  {
   "cell_type": "code",
   "execution_count": null,
   "id": "cons-areas-12",
   "metadata": {},
   "outputs": [],
   "source": [
    "# Compute analytic band areas on unit sphere\n",
    "phi = np.deg2rad(edges)\n",
    "band_areas_analytic = 2.0 * np.pi * (np.sin(phi[1:]) - np.sin(phi[:-1]))\n",
    "\n",
    "# Geometric area via face areas\n",
    "face_areas = uxds.uxgrid.face_areas.values\n",
    "A_faces_total = face_areas.sum()\n",
    "A_analytic_total = band_areas_analytic.sum()\n",
    "\n",
    "print(\"Analytic sphere area fraction (lat -90..90):\", A_analytic_total)\n",
    "print(\"Sum of face areas (mesh):                 \", A_faces_total)"
   ]
  },
  {
   "cell_type": "code",
   "execution_count": null,
   "id": "cons-integral-13",
   "metadata": {},
   "outputs": [],
   "source": [
    "# Physical conservation: compare band-summed integral vs direct face integral\n",
    "psi = uxds[\"psi\"]\n",
    "\n",
    "# Direct face-area integral\n",
    "I_faces = np.einsum(\"i,i->\", uxds.uxgrid.face_areas.values, psi.values)\n",
    "\n",
    "# Band integral from conservative means: sum_b( mean_b * A_b(analytic) )\n",
    "z_c_vals = z_c.values  # band means\n",
    "I_bands = float((z_c_vals * band_areas_analytic).sum())\n",
    "\n",
    "print(\"Direct face integral: \", I_faces)\n",
    "print(\"Banded integral:      \", I_bands)\n",
    "print(\"Relative diff:        \", abs(I_faces - I_bands) / max(1e-16, abs(I_faces)))"
   ]
  },
  {
   "cell_type": "markdown",
   "id": "sanity-14",
   "metadata": {},
   "source": [
    "### Sanity checks\n",
    "- Constant field: band means are all 1, banded integral equals total area.\n",
    "- Smooth fields: reducing band width (e.g., from 15° to 5°) should bring conservative and non-conservative curves closer.\n"
   ]
  },
  {
   "cell_type": "markdown",
   "id": "custom-bands-15",
   "metadata": {},
   "source": [
    "## Choosing custom bands\n",
    "You can provide explicit band edges via the `bands=` argument. For example, coarser 15° bands:"
   ]
  },
  {
   "cell_type": "code",
   "execution_count": null,
   "id": "bands-16",
   "metadata": {},
   "outputs": [],
   "source": [
    "edges15 = np.arange(-90, 90 + 15, 15)\n",
    "z_c15 = uxds[\"psi\"].zonal_mean(mode=\"conservative\", bands=edges15)\n",
    "z_c15.plot.line(color=\"firebrick\").opts(\n",
    "    title=\"Conservative Zonal Mean (15° bands)\",\n",
    "    xticks=np.arange(-90, 91, 30),\n",
    "    xlim=(-90, 90),\n",
    ")"
   ]
  }
 ],
 "metadata": {
  "kernelspec": {
   "display_name": "Python 3 (ipykernel)",
   "language": "python",
   "name": "python3"
  },
  "language_info": {
   "codemirror_mode": {
    "name": "ipython",
    "version": 3
   },
   "file_extension": ".py",
   "mimetype": "text/x-python",
   "name": "python",
   "nbconvert_exporter": "python",
   "pygments_lexer": "ipython3",
   "version": "3.12.7"
  }
 },
 "nbformat": 4,
 "nbformat_minor": 5
}
