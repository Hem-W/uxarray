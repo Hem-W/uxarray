{
 "cells": [
  {
   "cell_type": "markdown",
   "id": "dbade3aaedad9ae7",
   "metadata": {},
   "source": [
    "# Zonal Averaging\n",
    "\n",
    "This section demonstrates how to perform Zonal Averaging using UXarray, covering both non-conservative and conservative methods.\n"
   ]
  },
  {
   "cell_type": "code",
   "execution_count": null,
   "id": "185e2061bc4c75b9",
   "metadata": {},
   "outputs": [],
   "source": [
    "import numpy as np\n",
    "\n",
    "import uxarray as ux\n",
    "\n",
    "uxds = ux.open_dataset(\n",
    "    \"../../test/meshfiles/ugrid/outCSne30/outCSne30.ug\",\n",
    "    \"../../test/meshfiles/ugrid/outCSne30/outCSne30_vortex.nc\",\n",
    ")\n",
    "uxds[\"psi\"].plot(cmap=\"inferno\", periodic_elements=\"split\")"
   ]
  },
  {
   "cell_type": "markdown",
   "id": "d938d659b89bc9cb",
   "metadata": {},
   "source": [
    "## What is a Zonal Average/Mean?\n",
    "\n",
    "A zonal average (or zonal mean) is a statistical measure that represents the average of a variable along one or more lines of constant latitude. In other words, it's the mean value calculated around the sphere at constant latitudes.\n",
    "\n",
    "UXarray provides two types of zonal averaging:\n",
    "- **Non-conservative**: Weights candidate faces by the length of intersection of a line of constant latitude\n",
    "- **Conservative**: Preserves integral quantities by weighting faces by their area overlap with latitude bands\n",
    "\n",
    "```{seealso}\n",
    "[NCL Zonal Average](https://www.ncl.ucar.edu/Applications/zonal.shtml)\n",
    "```"
   ]
  },
  {
   "cell_type": "markdown",
   "id": "non_conservative_header",
   "metadata": {},
   "source": [
    "## Non-Conservative Zonal Averaging\n",
    "\n",
    "The non-conservative method samples values at specific lines of constant latitude. This is the default behavior and is suitable for visualization and general analysis where exact conservation is not required."
   ]
  },
  {
   "cell_type": "code",
   "execution_count": null,
   "id": "d342f8f449543994",
   "metadata": {},
   "outputs": [],
   "source": [
    "zonal_mean_psi = uxds[\"psi\"].zonal_mean()\n",
    "zonal_mean_psi"
   ]
  },
  {
   "cell_type": "markdown",
   "id": "65194a38c76e8a62",
   "metadata": {},
   "source": [
    "The default latitude range is between -90 and 90 degrees with a step size of 10 degrees. "
   ]
  },
  {
   "cell_type": "code",
   "execution_count": null,
   "id": "b5933beaf2f598ab",
   "metadata": {},
   "outputs": [],
   "source": [
    "(zonal_mean_psi.plot.line() * zonal_mean_psi.plot.scatter(color=\"red\")).opts(\n",
    "    title=\"Zonal Average Plot (Default)\", xticks=np.arange(-90, 100, 20), xlim=(-95, 95)\n",
    ")"
   ]
  },
  {
   "cell_type": "markdown",
   "id": "ba2d641a3076c692",
   "metadata": {},
   "source": [
    "The range of latitudes can be modified by using the `lat` parameter. It accepts:\n",
    "\n",
    "* **Single scalar**: e.g., `lat=45`\n",
    "* **List/array**: e.g., `lat=[10, 20]` or `lat=np.array([10, 20])`\n",
    "* **Tuple**: e.g., `(min_lat, max_lat, step)`"
   ]
  },
  {
   "cell_type": "code",
   "execution_count": null,
   "id": "4f665827daac1c46",
   "metadata": {},
   "outputs": [],
   "source": [
    "zonal_mean_psi_large = uxds[\"psi\"].zonal_mean(lat=(-90, 90, 1))"
   ]
  },
  {
   "cell_type": "code",
   "execution_count": null,
   "id": "1998f1a55b67100c",
   "metadata": {},
   "outputs": [],
   "source": [
    "(\n",
    "    zonal_mean_psi_large.plot.line()\n",
    "    * zonal_mean_psi_large.plot.scatter(color=\"red\", s=1)\n",
    ").opts(\n",
    "    title=\"Zonal Average Plot (Larger Sample)\",\n",
    "    xticks=np.arange(-90, 100, 20),\n",
    "    xlim=(-95, 95),\n",
    ")"
   ]
  },
  {
   "cell_type": "markdown",
   "id": "conservative_header",
   "metadata": {},
   "source": [
    "## Conservative Zonal Averaging\n",
    "\n",
    "Conservative zonal averaging preserves integral quantities (mass, energy, momentum) by computing area-weighted averages over latitude bands. This is essential for climate model analysis, energy budget calculations, and any application requiring physical conservation.\n",
    "\n",
    "### Key Differences from Non-Conservative:\n",
    "- **Non-conservative**: Samples at specific latitude lines\n",
    "- **Conservative**: Averages over latitude bands between adjacent lines\n",
    "- **Conservation**: Preserves global integrals to machine precision"
   ]
  },
  {
   "cell_type": "code",
   "execution_count": null,
   "id": "conservative_example",
   "metadata": {},
   "outputs": [],
   "source": [
    "# Conservative zonal averaging with bands\n",
    "bands = np.array([-90, -60, -30, 0, 30, 60, 90])\n",
    "conservative_result = uxds[\"psi\"].zonal_mean(lat=bands, conservative=True)\n",
    "conservative_result"
   ]
  },
  {
   "cell_type": "markdown",
   "id": "conservation_verification",
   "metadata": {},
   "source": [
    "### Conservation Verification\n",
    "\n",
    "A key advantage of conservative zonal averaging is that it preserves global integrals."
   ]
  },
  {
   "cell_type": "code",
   "execution_count": null,
   "id": "conservation_test",
   "metadata": {},
   "outputs": [],
   "source": [
    "# Test conservation property\n",
    "global_mean = uxds[\"psi\"].mean()\n",
    "full_sphere_conservative = uxds[\"psi\"].zonal_mean(lat=[-90, 90], conservative=True)\n",
    "conservation_error = abs(global_mean.values - full_sphere_conservative.values[0])\n",
    "\n",
    "print(f\"Global mean: {global_mean.values:.12f}\")\n",
    "print(f\"Conservative full sphere: {full_sphere_conservative.values[0]:.12f}\")\n",
    "print(f\"Conservation error: {conservation_error:.2e}\")"
   ]
  },
  {
   "cell_type": "markdown",
   "id": "signature_behavior",
   "metadata": {},
   "source": [
    "### Understanding the lat Parameter\n",
    "\n",
    "Both conservative and non-conservative modes can use the same `lat` parameter, but they interpret it differently:\n",
    "\n",
    "- **Non-conservative**: Creates sample points at the specified latitudes\n",
    "- **Conservative**: Uses the latitudes as band edges, creating bands between adjacent points"
   ]
  },
  {
   "cell_type": "code",
   "execution_count": null,
   "id": "signature_demo",
   "metadata": {},
   "outputs": [],
   "source": [
    "# Demonstrate signature behavior\n",
    "lat_tuple = (-90, 90, 30)  # Every 30 degrees\n",
    "\n",
    "# Non-conservative: samples at lines\n",
    "non_cons_lines = uxds[\"psi\"].zonal_mean(lat=lat_tuple)\n",
    "print(f\"Non-conservative with lat={lat_tuple}:\")\n",
    "print(f\"Sample points: {non_cons_lines.coords['latitudes'].values}\")\n",
    "print(f\"Count: {len(non_cons_lines.coords['latitudes'].values)} points\")\n",
    "\n",
    "# Conservative: creates bands between lines\n",
    "cons_bands = uxds[\"psi\"].zonal_mean(lat=lat_tuple, conservative=True)\n",
    "print(f\"\\nConservative with lat={lat_tuple}:\")\n",
    "print(f\"Band centers: {cons_bands.coords['latitudes'].values}\")\n",
    "print(f\"Count: {len(cons_bands.coords['latitudes'].values)} bands\")"
   ]
  },
  {
   "cell_type": "markdown",
   "id": "visual_comparison",
   "metadata": {},
   "source": [
    "### Visual Comparison: Conservative vs Non-Conservative",
    "",
    "The differences between methods reflect their fundamental approaches:",
    "",
    "- **Conservative**: More accurate for physical quantities because it accounts for the actual area of each face within latitude bands",
    "- **Non-conservative**: Faster but approximates by sampling at specific latitude lines",
    "",
    "The differences you see indicate how much area-weighting matters for your specific data and grid resolution."
   ]
  },
  {
   "cell_type": "code",
   "execution_count": null,
   "id": "comparison_plot",
   "metadata": {},
   "outputs": [],
   "source": [
    "import matplotlib.pyplot as plt\n",
    "\n",
    "# Compare with non-conservative at same latitudes\n",
    "band_centers = 0.5 * (bands[:-1] + bands[1:])\n",
    "non_conservative_comparison = uxds[\"psi\"].zonal_mean(lat=band_centers)\n",
    "\n",
    "# Create comparison plot\n",
    "fig, ax = plt.subplots(1, 1, figsize=(10, 6))\n",
    "\n",
    "ax.plot(\n",
    "    conservative_result.coords[\"latitudes\"],\n",
    "    conservative_result.values,\n",
    "    \"o-\",\n",
    "    label=\"Conservative (bands)\",\n",
    "    linewidth=3,\n",
    "    markersize=8,\n",
    "    color=\"red\",\n",
    ")\n",
    "ax.plot(\n",
    "    non_conservative_comparison.coords[\"latitudes\"],\n",
    "    non_conservative_comparison.values,\n",
    "    \"s--\",\n",
    "    label=\"Non-conservative (lines)\",\n",
    "    linewidth=2,\n",
    "    markersize=7,\n",
    "    color=\"blue\",\n",
    "    alpha=0.7,\n",
    ")\n",
    "\n",
    "ax.set_xlabel(\"Latitude (degrees)\")\n",
    "ax.set_ylabel(\"Zonal Mean Value\")\n",
    "ax.set_title(\"Conservative vs Non-Conservative Zonal Averaging\")\n",
    "ax.grid(True, alpha=0.3)\n",
    "ax.legend()\n",
    "ax.set_xlim(-90, 90)\n",
    "\n",
    "plt.tight_layout()\n",
    "plt.show()"
   ]
  },
  {
   "cell_type": "markdown",
   "id": "understanding_differences",
   "metadata": {},
   "source": [
    "### Understanding the Differences\n",
    "\n",
    "The differences between conservative and non-conservative results depend on several factors:\n",
    "\n",
    "1. **Grid Resolution**: Higher resolution grids show smaller differences\n",
    "2. **Data Variability**: Rapidly changing fields show larger differences\n",
    "3. **Latitude Band Size**: Wider bands increase the importance of area-weighting\n",
    "\n",
    "**Which is more accurate?**\n",
    "- **Conservative**: More accurate for physical quantities (mass, energy, momentum) because it preserves integral properties\n",
    "- **Non-conservative**: Adequate for visualization and qualitative analysis\n",
    "\n",
    "**When differences matter most:**\n",
    "- Variable resolution grids (where face sizes vary significantly)\n",
    "- Physical conservation requirements\n",
    "- Quantitative analysis and budget calculations"
   ]
  },
  {
   "cell_type": "code",
   "execution_count": null,
   "id": "difference_analysis",
   "metadata": {},
   "outputs": [],
   "source": [
    "# Quantify the differences\n",
    "differences = conservative_result.values - non_conservative_comparison.values\n",
    "max_diff = np.max(np.abs(differences))\n",
    "mean_diff = np.mean(np.abs(differences))\n",
    "\n",
    "print(f\"Maximum absolute difference: {max_diff:.6f}\")\n",
    "print(f\"Mean absolute difference: {mean_diff:.6f}\")\n",
    "print(\n",
    "    f\"Relative difference (max): {max_diff / np.mean(np.abs(conservative_result.values)) * 100:.3f}%\"\n",
    ")"
   ]
  },
  {
   "cell_type": "markdown",
   "id": "4b91ebb8f733a318",
   "metadata": {},
   "source": [
    "## Combined Plots\n",
    "\n",
    "It is often desired to plot the zonal average along side other plots, such as color or contour plots. "
   ]
  },
  {
   "cell_type": "code",
   "execution_count": null,
   "id": "cb2255761173d53e",
   "metadata": {},
   "outputs": [],
   "source": [
    "# Create combined plot with matplotlib\n",
    "fig, (ax1, ax2) = plt.subplots(1, 2, figsize=(15, 6))\n",
    "\n",
    "# Left: Data field\n",
    "uxds[\"psi\"].plot(ax=ax1, cmap=\"inferno\")\n",
    "ax1.set_title(\"Global Field\")\n",
    "\n",
    "# Right: Zonal average\n",
    "ax2.plot(\n",
    "    zonal_mean_psi.values,\n",
    "    zonal_mean_psi.coords[\"latitudes\"],\n",
    "    \"o-\",\n",
    "    linewidth=2,\n",
    "    markersize=4,\n",
    ")\n",
    "ax2.set_xlabel(\"Zonal Mean Value\")\n",
    "ax2.set_ylabel(\"Latitude (degrees)\")\n",
    "ax2.set_title(\"Zonal Average\")\n",
    "ax2.grid(True, alpha=0.3)\n",
    "ax2.set_ylim(-90, 90)\n",
    "ax2.set_xlim(0.8, 1.2)\n",
    "\n",
    "plt.suptitle(\"Combined Zonal Average & Raster Plot\")\n",
    "plt.tight_layout()\n",
    "plt.show()"
   ]
  }
 ],
 "metadata": {
  "kernelspec": {
   "display_name": "Python 3 (ipykernel)",
   "language": "python",
   "name": "python3"
  },
  "language_info": {
   "codemirror_mode": {
    "name": "ipython",
    "version": 3
   },
   "file_extension": ".py",
   "mimetype": "text/x-python",
   "name": "python",
   "nbconvert_exporter": "python",
   "pygments_lexer": "ipython3",
   "version": "3.12.7"
  }
 },
 "nbformat": 4,
 "nbformat_minor": 5
}
